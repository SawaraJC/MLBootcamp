{
 "cells": [
  {
   "cell_type": "code",
   "execution_count": 1,
   "id": "1ddacfc9-1352-4f3d-b1cc-1ddde02983b4",
   "metadata": {},
   "outputs": [],
   "source": [
    "#series in pandas is more or less like an array. it is built on top of a numpy array"
   ]
  },
  {
   "cell_type": "code",
   "execution_count": null,
   "id": "98eae97c",
   "metadata": {},
   "outputs": [],
   "source": [
    "import numpy as np\n",
    "import pandas as pd "
   ]
  },
  {
   "cell_type": "code",
   "execution_count": null,
   "id": "3e294ac9",
   "metadata": {},
   "outputs": [],
   "source": [
    "label = ['a','b','c']\n",
    "d = {'a':10, 'b':20, 'c':30}\n",
    "my_data = [10,40,60]\n",
    "arr = np.array(my_data)\n"
   ]
  }
 ],
 "metadata": {
  "kernelspec": {
   "display_name": "Python 3 (ipykernel)",
   "language": "python",
   "name": "python3"
  },
  "language_info": {
   "codemirror_mode": {
    "name": "ipython",
    "version": 3
   },
   "file_extension": ".py",
   "mimetype": "text/x-python",
   "name": "python",
   "nbconvert_exporter": "python",
   "pygments_lexer": "ipython3",
   "version": "3.9.7"
  }
 },
 "nbformat": 4,
 "nbformat_minor": 5
}
